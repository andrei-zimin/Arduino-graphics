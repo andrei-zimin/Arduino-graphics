{
  "nbformat": 4,
  "nbformat_minor": 0,
  "metadata": {
    "colab": {
      "provenance": []
    },
    "kernelspec": {
      "name": "python3",
      "display_name": "Python 3"
    }
  },
  "cells": [
    {
      "cell_type": "code",
      "metadata": {
        "id": "ccSkdrAnEZ-f"
      },
      "source": [
        "import pandas as pd\n",
        "import matplotlib.pyplot as plt\n",
        "%matplotlib inline"
      ],
      "execution_count": null,
      "outputs": []
    },
    {
      "cell_type": "code",
      "metadata": {
        "id": "IpKDrWimEq8D"
      },
      "source": [
        "path = 'https://github.com/cherpontov/practic/files/5145814/default.xlsx' #путь, по которому находится файл excel\n",
        "\n",
        "data = pd.read_excel(path)"
      ],
      "execution_count": null,
      "outputs": []
    },
    {
      "cell_type": "code",
      "metadata": {
        "id": "SupxoYxNJqj_",
        "colab": {
          "base_uri": "https://localhost:8080/",
          "height": 419
        },
        "outputId": "7fe5c412-ff3a-4b78-e5df-7f47a8dcdb49"
      },
      "source": [
        "data  # типа данных - data frame"
      ],
      "execution_count": null,
      "outputs": [
        {
          "output_type": "execute_result",
          "data": {
            "text/html": [
              "<div>\n",
              "<style scoped>\n",
              "    .dataframe tbody tr th:only-of-type {\n",
              "        vertical-align: middle;\n",
              "    }\n",
              "\n",
              "    .dataframe tbody tr th {\n",
              "        vertical-align: top;\n",
              "    }\n",
              "\n",
              "    .dataframe thead th {\n",
              "        text-align: right;\n",
              "    }\n",
              "</style>\n",
              "<table border=\"1\" class=\"dataframe\">\n",
              "  <thead>\n",
              "    <tr style=\"text-align: right;\">\n",
              "      <th></th>\n",
              "      <th>левый датчик</th>\n",
              "      <th>центральный датчик</th>\n",
              "      <th>правый датчик</th>\n",
              "    </tr>\n",
              "  </thead>\n",
              "  <tbody>\n",
              "    <tr>\n",
              "      <th>0</th>\n",
              "      <td>31</td>\n",
              "      <td>31</td>\n",
              "      <td>31</td>\n",
              "    </tr>\n",
              "    <tr>\n",
              "      <th>1</th>\n",
              "      <td>30</td>\n",
              "      <td>30</td>\n",
              "      <td>30</td>\n",
              "    </tr>\n",
              "    <tr>\n",
              "      <th>2</th>\n",
              "      <td>30</td>\n",
              "      <td>30</td>\n",
              "      <td>30</td>\n",
              "    </tr>\n",
              "    <tr>\n",
              "      <th>3</th>\n",
              "      <td>30</td>\n",
              "      <td>30</td>\n",
              "      <td>30</td>\n",
              "    </tr>\n",
              "    <tr>\n",
              "      <th>4</th>\n",
              "      <td>30</td>\n",
              "      <td>30</td>\n",
              "      <td>30</td>\n",
              "    </tr>\n",
              "    <tr>\n",
              "      <th>...</th>\n",
              "      <td>...</td>\n",
              "      <td>...</td>\n",
              "      <td>...</td>\n",
              "    </tr>\n",
              "    <tr>\n",
              "      <th>1244</th>\n",
              "      <td>31</td>\n",
              "      <td>26</td>\n",
              "      <td>29</td>\n",
              "    </tr>\n",
              "    <tr>\n",
              "      <th>1245</th>\n",
              "      <td>31</td>\n",
              "      <td>26</td>\n",
              "      <td>31</td>\n",
              "    </tr>\n",
              "    <tr>\n",
              "      <th>1246</th>\n",
              "      <td>31</td>\n",
              "      <td>27</td>\n",
              "      <td>31</td>\n",
              "    </tr>\n",
              "    <tr>\n",
              "      <th>1247</th>\n",
              "      <td>31</td>\n",
              "      <td>27</td>\n",
              "      <td>31</td>\n",
              "    </tr>\n",
              "    <tr>\n",
              "      <th>1248</th>\n",
              "      <td>31</td>\n",
              "      <td>27</td>\n",
              "      <td>31</td>\n",
              "    </tr>\n",
              "  </tbody>\n",
              "</table>\n",
              "<p>1249 rows × 3 columns</p>\n",
              "</div>"
            ],
            "text/plain": [
              "      левый датчик  центральный датчик  правый датчик\n",
              "0               31                  31             31\n",
              "1               30                  30             30\n",
              "2               30                  30             30\n",
              "3               30                  30             30\n",
              "4               30                  30             30\n",
              "...            ...                 ...            ...\n",
              "1244            31                  26             29\n",
              "1245            31                  26             31\n",
              "1246            31                  27             31\n",
              "1247            31                  27             31\n",
              "1248            31                  27             31\n",
              "\n",
              "[1249 rows x 3 columns]"
            ]
          },
          "metadata": {
            "tags": []
          },
          "execution_count": 3
        }
      ]
    },
    {
      "cell_type": "code",
      "metadata": {
        "id": "995WtBSnLkYU",
        "colab": {
          "base_uri": "https://localhost:8080/"
        },
        "outputId": "773c8905-92ac-48b1-da8a-7efac877a848"
      },
      "source": [
        "data.columns"
      ],
      "execution_count": null,
      "outputs": [
        {
          "output_type": "execute_result",
          "data": {
            "text/plain": [
              "Index(['левый датчик', 'центральный датчик', 'правый датчик'], dtype='object')"
            ]
          },
          "metadata": {
            "tags": []
          },
          "execution_count": 4
        }
      ]
    },
    {
      "cell_type": "code",
      "metadata": {
        "id": "EcDglh_JL72Z",
        "colab": {
          "base_uri": "https://localhost:8080/"
        },
        "outputId": "915d877e-a145-4f6c-c029-2860d2e107ab"
      },
      "source": [
        "data['центральный датчик']"
      ],
      "execution_count": null,
      "outputs": [
        {
          "output_type": "execute_result",
          "data": {
            "text/plain": [
              "0       31\n",
              "1       30\n",
              "2       30\n",
              "3       30\n",
              "4       30\n",
              "        ..\n",
              "1244    26\n",
              "1245    26\n",
              "1246    27\n",
              "1247    27\n",
              "1248    27\n",
              "Name: центральный датчик, Length: 1249, dtype: int64"
            ]
          },
          "metadata": {
            "tags": []
          },
          "execution_count": 5
        }
      ]
    },
    {
      "cell_type": "code",
      "metadata": {
        "id": "rtU12nRDN1Bc",
        "colab": {
          "base_uri": "https://localhost:8080/"
        },
        "outputId": "16210953-62e6-4573-e710-4ae5acc1e800"
      },
      "source": [
        "data['T_light'] = data['левый датчик']\n",
        "data['T_center'] = data['центральный датчик']\n",
        "data['T_right'] = data['правый датчик']\n",
        "\n",
        "data['T_center']"
      ],
      "execution_count": null,
      "outputs": [
        {
          "output_type": "execute_result",
          "data": {
            "text/plain": [
              "0       31\n",
              "1       30\n",
              "2       30\n",
              "3       30\n",
              "4       30\n",
              "        ..\n",
              "1244    26\n",
              "1245    26\n",
              "1246    27\n",
              "1247    27\n",
              "1248    27\n",
              "Name: T_center, Length: 1249, dtype: int64"
            ]
          },
          "metadata": {
            "tags": []
          },
          "execution_count": 6
        }
      ]
    },
    {
      "cell_type": "code",
      "metadata": {
        "id": "IoeRXRFO4XbE",
        "colab": {
          "base_uri": "https://localhost:8080/",
          "height": 445
        },
        "outputId": "ecd80e10-e793-471e-c403-a4603f556061"
      },
      "source": [
        "x = data.index\n",
        "y = data['T_right']\n",
        "plt.figure(figsize=(15,7))  # задать размер графика\n",
        "plt.plot(x, data['T_light'].rolling(1000).mean(), label='левый датчик',color = \"red\")\n",
        "plt.plot(x, data['T_center'].rolling(1000).mean(), label='центральный датчик',color = \"black\"),\n",
        "plt.plot(x, data['T_right'].rolling(1000).mean(), label='правый датчик', color = \"blue\"),\n",
        "plt.legend()"
      ],
      "execution_count": null,
      "outputs": [
        {
          "output_type": "execute_result",
          "data": {
            "text/plain": [
              "<matplotlib.legend.Legend at 0x7fa17edd2f98>"
            ]
          },
          "metadata": {
            "tags": []
          },
          "execution_count": 7
        },
        {
          "output_type": "display_data",
          "data": {
            "image/png": "[encoded data removed]",
            "text/plain": [
              "<Figure size 1080x504 with 1 Axes>"
            ]
          },
          "metadata": {
            "tags": [],
            "needs_background": "light"
          }
        }
      ]
    }
  ]
}